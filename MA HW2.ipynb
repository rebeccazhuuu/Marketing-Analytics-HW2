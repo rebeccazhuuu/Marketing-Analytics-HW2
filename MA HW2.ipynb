{
 "cells": [
  {
   "cell_type": "code",
   "execution_count": 3,
   "metadata": {},
   "outputs": [
    {
     "data": {
      "image/png": "[encoded data removed]",
      "text/plain": [
       "<Figure size 432x288 with 1 Axes>"
      ]
     },
     "metadata": {
      "needs_background": "light"
     },
     "output_type": "display_data"
    }
   ],
   "source": [
    "import pandas as pd\n",
    "import os\n",
    "from sklearn.preprocessing import MinMaxScaler\n",
    "from sklearn.model_selection import train_test_split\n",
    "import numpy as np\n",
    "from sklearn.cluster import KMeans\n",
    "from scipy.spatial.distance import cdist\n",
    "import matplotlib.pyplot as plt\n",
    "\n",
    "\n",
    "# function to encode\n",
    "def enco(variable,data):\n",
    "    data[variable]\n",
    "    dummies = pd.get_dummies(data[variable], prefix=variable,dtype='float')\n",
    "    dummies\n",
    "    data = data.join(dummies)\n",
    "    return data\n",
    "\n",
    "\n",
    "# load the data\n",
    "#os.chdir(r'D:\\Marketing Analytics\\HW2')\n",
    "data = pd.read_csv('transactions_n100000.csv')\n",
    "\n",
    "# explore the data\n",
    "data.columns.values\n",
    "data.describe()\n",
    "data.head(2).T\n",
    "data.iloc[:,3].unique()\n",
    "data.iloc[:,2].unique()\n",
    "data.iloc[:,4].unique()\n",
    "\n",
    "# one-hot encoding\n",
    "data=enco('location',data)\n",
    "data=enco('item_name',data)\n",
    "data.columns.values\n",
    "\n",
    "# Multiply each type of cuisine by item_count\n",
    "data['item_name_burger']=data['item_name_burger']*data['item_count']\n",
    "data['item_name_fries']=data['item_name_fries']*data['item_count']\n",
    "data['item_name_salad']=data['item_name_salad']*data['item_count']\n",
    "data['item_name_shake']=data['item_name_shake']*data['item_count']\n",
    "\n",
    "\n",
    "# Combine the different dishes that everyone ordered\n",
    "name1=['item_name_burger','item_name_fries','item_name_salad','item_name_shake']\n",
    "name2=['ticket_id', 'order_timestamp','location', 'item_name','item_count', 'lat', 'long', 'location_1', 'location_2','location_3', 'location_4', 'location_5', 'location_6','location_7', 'location_8', 'location_9']\n",
    "sub_data1 = data.groupby('ticket_id')[name2].mean()\n",
    "sub_data2 = data.groupby('ticket_id')[name1].sum()\n",
    "data = pd.concat([sub_data1,sub_data2],axis=1)\n",
    "\n",
    "# pick the needed varibales\n",
    "data = data.iloc[:,2:]\n",
    "\n",
    "# Min-Max scale\n",
    "# fit\n",
    "scaler = MinMaxScaler()\n",
    "scaler.fit(data)\n",
    "# transform\n",
    "data_scaled = pd.DataFrame(scaler.transform(data),columns=data.columns)\n",
    "data_scaled.head(3).T\n",
    "\n",
    "# KMeans\n",
    "# choose k value with elbow method\n",
    "K = range(1, 20)\n",
    "meanDispersions = []\n",
    "for k in K:\n",
    "    kmeans = KMeans(n_clusters=k)\n",
    "    kmeans.fit(data)\n",
    "\n",
    "    meanDispersions.append(sum(np.min(cdist(data, kmeans.cluster_centers_, 'euclidean'), axis=1)) / data.shape[0])\n",
    "\n",
    "plt.plot(K, meanDispersions, 'bx-')\n",
    "plt.xlabel('k')\n",
    "plt.ylabel('Average Dispersion')\n",
    "plt.title('Selecting k with the Elbow Method')\n",
    "plt.show()  # k=5\n",
    "\n",
    "# cluster\n",
    "kmeans = KMeans(n_clusters=5).fit(data)\n",
    "data['type']=kmeans.labels_\n",
    "data['type'].unique()\n",
    "\n",
    "\n",
    "data.to_csv('transactions_n100000_clustered_3.csv')"
   ]
  },
  {
   "cell_type": "code",
   "execution_count": null,
   "metadata": {},
   "outputs": [],
   "source": []
  }
 ],
 "metadata": {
  "kernelspec": {
   "display_name": "Python 3",
   "language": "python",
   "name": "python3"
  },
  "language_info": {
   "codemirror_mode": {
    "name": "ipython",
    "version": 3
   },
   "file_extension": ".py",
   "mimetype": "text/x-python",
   "name": "python",
   "nbconvert_exporter": "python",
   "pygments_lexer": "ipython3",
   "version": "3.8.3"
  }
 },
 "nbformat": 4,
 "nbformat_minor": 4
}
